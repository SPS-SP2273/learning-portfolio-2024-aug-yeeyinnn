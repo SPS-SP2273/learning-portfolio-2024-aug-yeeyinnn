{
 "cells": [
  {
   "attachments": {},
   "cell_type": "markdown",
   "id": "123456",
   "metadata": {},
   "source": [
    "<div style=\"text-align:left;font-size:2em\"><span style=\"font-weight:bolder;font-size:1.25em\">SP2273 | Learning Portfolio</span><br><br><span style=\"font-weight:bold;color:darkred\">Fundamentals (Need) Exercises</span></div>"
   ]
  },
  {
   "cell_type": "markdown",
   "id": "d49df827-621c-43f1-a983-d9cfed415d41",
   "metadata": {},
   "source": [
    "#### Using funstion, brackets come after the function() \n",
    "\n",
    "print('Hello World!!')<br>\n",
    "output: Hello World!!"
   ]
  },
  {
   "cell_type": "markdown",
   "id": "036a6506-00aa-4d51-88b1-0e135342b6c7",
   "metadata": {},
   "source": [
    "#### Comments\n",
    "Everything after '#' will be a comment, python won't read it"
   ]
  },
  {
   "cell_type": "markdown",
   "id": "93135ad4-6908-42f5-9651-64d294fb9f77",
   "metadata": {},
   "source": [
    "#### import package: <br>\n",
    "import more function which python is limited<br>\n",
    "ex. numpy, math"
   ]
  },
  {
   "cell_type": "markdown",
   "id": "8a278fb3-d0a3-404a-9088-624146925c1d",
   "metadata": {},
   "source": [
    "#### The dot\n",
    "Something after the dot belong to something before the dot<br>\n",
    "ex. numpy.sqrt()<br>\n",
    "sqrt function came from the module of numpy, we can only use sqrt when mention numpy before it"
   ]
  },
  {
   "cell_type": "markdown",
   "id": "3e933446-f71c-48bf-bdd6-07ed5a611ff1",
   "metadata": {},
   "source": [
    "#### The space is important\n",
    "x = 2<br>\n",
    " print(x)<br>\n",
    "#no outcome<br>\n",
    "\n",
    "x = 2<br>\n",
    "print(x)<br>\n",
    "#print x<br>\n"
   ]
  },
  {
   "cell_type": "code",
   "execution_count": null,
   "id": "8690ec98-37fe-4c69-8020-a7c86dfa7892",
   "metadata": {},
   "outputs": [],
   "source": []
  }
 ],
 "metadata": {
  "kernelspec": {
   "display_name": "Python 3 (ipykernel)",
   "language": "python",
   "name": "python3"
  },
  "language_info": {
   "codemirror_mode": {
    "name": "ipython",
    "version": 3
   },
   "file_extension": ".py",
   "mimetype": "text/x-python",
   "name": "python",
   "nbconvert_exporter": "python",
   "pygments_lexer": "ipython3",
   "version": "3.12.3"
  },
  "toc": {
   "base_numbering": 1,
   "nav_menu": {},
   "number_sections": true,
   "sideBar": true,
   "skip_h1_title": false,
   "title_cell": "Table of Contents",
   "title_sidebar": "Contents",
   "toc_cell": false,
   "toc_position": {},
   "toc_section_display": true,
   "toc_window_display": false
  },
  "vscode": {
   "interpreter": {
    "hash": "31f2aee4e71d21fbe5cf8b01ff0e069b9275f58929596ceb00d14d90e3e16cd6"
   }
  }
 },
 "nbformat": 4,
 "nbformat_minor": 5
}
