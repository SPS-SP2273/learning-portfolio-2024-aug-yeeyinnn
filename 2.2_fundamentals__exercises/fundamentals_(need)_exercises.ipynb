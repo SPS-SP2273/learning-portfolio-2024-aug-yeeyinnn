{
 "cells": [
  {
   "attachments": {},
   "cell_type": "markdown",
   "id": "123456",
   "metadata": {},
   "source": [
    "<div style=\"text-align:left;font-size:2em\"><span style=\"font-weight:bolder;font-size:1.25em\">SP2273 | Learning Portfolio</span><br><br><span style=\"font-weight:bold;color:darkred\">Fundamentals (Need) Exercises</span></div>"
   ]
  },
  {
   "cell_type": "markdown",
   "id": "8c22eb4a-2c5f-44c6-b8fd-39412290e491",
   "metadata": {},
   "source": [
    "## Exercise 1 (Total recall?) "
   ]
  },
  {
   "cell_type": "markdown",
   "id": "d49df827-621c-43f1-a983-d9cfed415d41",
   "metadata": {},
   "source": [
    "#### Function\n",
    "\n",
    "print('Hello World!!')<br>\n",
    "output: Hello World!!<br>\n",
    "\n",
    "*Parentheses, (), always follow a function.<br>\n",
    "We use these parentheses to pass arguments to the function<br>\n",
    "Parentheses are left empty for those functions that don’t require an argument (e.g. exit())*"
   ]
  },
  {
   "cell_type": "markdown",
   "id": "78d237d1-d40c-48ba-a6c0-c4b783f1e57f",
   "metadata": {},
   "source": [
    "#### Python is interpreted\n",
    "*it works sequentially, one command at a time*"
   ]
  },
  {
   "cell_type": "markdown",
   "id": "036a6506-00aa-4d51-88b1-0e135342b6c7",
   "metadata": {},
   "source": [
    "#### Comments\n",
    "Everything after '#' will be a comment,*to write additional information for people to read*, python won't read it"
   ]
  },
  {
   "cell_type": "markdown",
   "id": "9d67805a-7e66-4e2f-ac7b-3650b7e574af",
   "metadata": {},
   "source": [
    "#### = is not the ame as ==\n",
    "*= is used to set something equal*,assigning value<br>\n",
    "*== is used to check if something is equal*,use as a condition or asking question"
   ]
  },
  {
   "cell_type": "markdown",
   "id": "8178d8b6-6834-4125-8eae-168635beae9f",
   "metadata": {},
   "source": [
    "#### If statement\n",
    "Used to test the condition, only if the condition is True, the subsequent block of code will only run<br>\n",
    "*Notice the use of : and indentations (spaces or tabs) to define what to do if the answer is True and what to do if the answer is False*"
   ]
  },
  {
   "cell_type": "markdown",
   "id": "33aa5c3f-a9e9-47d9-9ba4-6252c442f5e6",
   "metadata": {},
   "source": [
    "#### The indentations (spaces) are important\n",
    "x = 2<br>\n",
    "\n",
    "(spaces) print(x)<br>\n",
    "#no outcome<br>\n",
    "\n",
    "x = 2<br>\n",
    "print(x)<br>\n",
    "#print x<br>\n",
    "\n",
    "*Python uses an indentation to separate the True and False ‘blocks’*"
   ]
  },
  {
   "cell_type": "markdown",
   "id": "93135ad4-6908-42f5-9651-64d294fb9f77",
   "metadata": {},
   "source": [
    "#### import package: \n",
    "import more function which python is limited<br>\n",
    "ex. numpy, math"
   ]
  },
  {
   "cell_type": "markdown",
   "id": "8a278fb3-d0a3-404a-9088-624146925c1d",
   "metadata": {},
   "source": [
    "#### The dot\n",
    "Something after the dot belong to something before the dot<br>\n",
    "ex. numpy.sqrt()<br>\n",
    "sqrt function came from the module of numpy, we can only use sqrt when mention numpy before it."
   ]
  },
  {
   "cell_type": "markdown",
   "id": "32e3764d-22a8-4166-b774-2b7608c1d369",
   "metadata": {},
   "source": [
    "#### English and variable\n",
    "we can assign value to variable, variable is something can hold values\n",
    "English is something wrote between ' ' or \" \"<br>\n",
    "*print(age)       # Print the value of the variable age <br>\n",
    "print(\"age\")     # Print the English word 'age'*\n"
   ]
  },
  {
   "cell_type": "markdown",
   "id": "9c19486b-05e7-42e5-b276-369d1c0cb95a",
   "metadata": {},
   "source": [
    "## Exercise 2 (Debug me)\n",
    "\n"
   ]
  },
  {
   "cell_type": "code",
   "execution_count": 9,
   "id": "dc5d1141-7ef7-4509-86c2-12dedf288a35",
   "metadata": {},
   "outputs": [
    {
     "name": "stdout",
     "output_type": "stream",
     "text": [
      "3 4 5\n"
     ]
    }
   ],
   "source": [
    "import numpy as np\n",
    "x, y = 3, 4\n",
    "z = np.sqrt(x**2 + y**2)\n",
    "z = int(z)\n",
    "print(x, y, z)"
   ]
  },
  {
   "cell_type": "markdown",
   "id": "3aaa6a5d-8a37-4ae1-97b0-fb2439687041",
   "metadata": {},
   "source": [
    "\n",
    "|#|Term\t|Description|\n",
    "|:---|:--:|:---|\n",
    "|1|\tFunction|Funtion does specific task, usually require argument in the ( )| \n",
    "|3| Comments|Comments is something ignore by python. They are there for human to understand |\n",
    "|4|\tIndentations|They basically are spaces allow python to group the codes and understand which part is under which specific function|\n",
    "|5|\tPackages|we can download packages to use function from it which are not provide by python| \n",
    "|6|\t.\t|something after it belongs to something before it | \n",
    "|7|\t:\t|used to signify the start of an indented code block|\n",
    "|8|\t[ ]\t|can be used for list | \n",
    "|9|\t[ [ ] , [ ] ]|can be used in 2D matrix |\t\n",
    "|10|{ }|can be used for dictionary |"
   ]
  },
  {
   "cell_type": "markdown",
   "id": "8acf6029-e83e-4cb9-b881-4f1b29a83369",
   "metadata": {},
   "source": [
    "## Exercise 4 (More than one way to divide) ☻"
   ]
  },
  {
   "cell_type": "code",
   "execution_count": 11,
   "id": "101e248c-6b0f-4ac0-a5de-c7641497c656",
   "metadata": {},
   "outputs": [
    {
     "data": {
      "text/plain": [
       "float"
      ]
     },
     "execution_count": 11,
     "metadata": {},
     "output_type": "execute_result"
    }
   ],
   "source": [
    "5/2  #devide which output is a float"
   ]
  },
  {
   "cell_type": "code",
   "execution_count": 10,
   "id": "272b56d0-5816-462e-8a28-d93dab8d600f",
   "metadata": {},
   "outputs": [
    {
     "data": {
      "text/plain": [
       "int"
      ]
     },
     "execution_count": 10,
     "metadata": {},
     "output_type": "execute_result"
    }
   ],
   "source": [
    "5//2 #devide which output only keep the floor"
   ]
  },
  {
   "cell_type": "code",
   "execution_count": 12,
   "id": "22ab4fcf-874b-4c73-b853-215c9f0dcbd8",
   "metadata": {},
   "outputs": [
    {
     "data": {
      "text/plain": [
       "int"
      ]
     },
     "execution_count": 12,
     "metadata": {},
     "output_type": "execute_result"
    }
   ],
   "source": [
    "5%2 #output is the remainder"
   ]
  }
 ],
 "metadata": {
  "kernelspec": {
   "display_name": "Python 3 (ipykernel)",
   "language": "python",
   "name": "python3"
  },
  "language_info": {
   "codemirror_mode": {
    "name": "ipython",
    "version": 3
   },
   "file_extension": ".py",
   "mimetype": "text/x-python",
   "name": "python",
   "nbconvert_exporter": "python",
   "pygments_lexer": "ipython3",
   "version": "3.12.3"
  },
  "toc": {
   "base_numbering": 1,
   "nav_menu": {},
   "number_sections": true,
   "sideBar": true,
   "skip_h1_title": false,
   "title_cell": "Table of Contents",
   "title_sidebar": "Contents",
   "toc_cell": false,
   "toc_position": {},
   "toc_section_display": true,
   "toc_window_display": false
  },
  "vscode": {
   "interpreter": {
    "hash": "31f2aee4e71d21fbe5cf8b01ff0e069b9275f58929596ceb00d14d90e3e16cd6"
   }
  }
 },
 "nbformat": 4,
 "nbformat_minor": 5
}
