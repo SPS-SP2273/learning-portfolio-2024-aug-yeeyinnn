{
 "cells": [
  {
   "attachments": {},
   "cell_type": "markdown",
   "id": "123456",
   "metadata": {},
   "source": [
    "<div style=\"text-align:left;font-size:2em\"><span style=\"font-weight:bolder;font-size:1.25em\">SP2273 | Learning Portfolio</span><br><br><span style=\"font-weight:bold;color:darkred\">Fundamentals (Good) Exercises</span></div>"
   ]
  },
  {
   "cell_type": "code",
   "execution_count": 2,
   "id": "62cde70f-adec-40f0-8f17-97cf6d6bc488",
   "metadata": {},
   "outputs": [
    {
     "name": "stdin",
     "output_type": "stream",
     "text": [
      "Please provide me with a number? 123\n"
     ]
    },
    {
     "name": "stdout",
     "output_type": "stream",
     "text": [
      "You entered 123\n"
     ]
    }
   ],
   "source": [
    "user_input = input('Please provide me with a number?')\n",
    "print('You entered', user_input)"
   ]
  },
  {
   "cell_type": "code",
   "execution_count": 40,
   "id": "50877148-e6da-41fa-a9ba-f108b692f4b4",
   "metadata": {},
   "outputs": [
    {
     "name": "stdin",
     "output_type": "stream",
     "text": [
      "Please provide me your name. uyr\n"
     ]
    },
    {
     "name": "stdout",
     "output_type": "stream",
     "text": [
      "How you doin \u001b[1mUYR\u001b[1m\n"
     ]
    }
   ],
   "source": [
    "user_input = input('Please provide me your name.')\n",
    "user_input = user_input.upper()\n",
    "print(f'How you doin \\033[1m{user_input}\\033[1m')"
   ]
  },
  {
   "cell_type": "code",
   "execution_count": 33,
   "id": "b577e773-f857-4b75-b616-b8b85f9ae988",
   "metadata": {},
   "outputs": [
    {
     "name": "stdin",
     "output_type": "stream",
     "text": [
      "Please provide me your name. kru\n",
      "Please provide me your age. rty\\\n"
     ]
    },
    {
     "name": "stdout",
     "output_type": "stream",
     "text": [
      "My name is \u001b[1mKRU\u001b[0m and I am \u001b[1mRTY\\\u001b[0m years old.\n"
     ]
    }
   ],
   "source": [
    "NAME = input('Please provide me your name.')\n",
    "AGE = input('Please provide me your age.')\n",
    "NAME = NAME.upper()\n",
    "AGE = AGE.upper()\n",
    "print('My name is', '\\033[1m'+ NAME + '\\033[0m' ,'and I am', '\\033[1m' + AGE +'\\033[0m', 'years old.')"
   ]
  },
  {
   "cell_type": "code",
   "execution_count": 27,
   "id": "c6a8da1d-881b-46bc-a857-b9b31255c60f",
   "metadata": {},
   "outputs": [
    {
     "name": "stdout",
     "output_type": "stream",
     "text": [
      "The value of pi to 2 decimal places is: pi=3.14\n",
      "The value of pi to 3 decimal places is: pi=3.142\n",
      "The value of pi to 4 decimal places is: pi=3.1416\n"
     ]
    }
   ],
   "source": [
    "pi = 3.141592653589793\n",
    "print('The value of pi to 2 decimal places is:',f'{pi=:.2f}')\n",
    "print('The value of pi to 3 decimal places is:', f'{pi=:.3f}')\n",
    "print('The value of pi to 4 decimal places is:', f'{pi=:.4f}')"
   ]
  },
  {
   "cell_type": "markdown",
   "id": "8ae9d683-44ad-4291-bf8c-acebb708b43e",
   "metadata": {},
   "source": [
    "|Fruit|\tPrice|\n",
    "|:---|:---|\n",
    "|Apple  | \\$0.99|\n",
    "|Banana | \\$0.59|\n",
    "|Orange | \\$1.29|"
   ]
  },
  {
   "cell_type": "code",
   "execution_count": 6,
   "id": "24110b71-01b9-40e2-8ac5-9337c2029ade",
   "metadata": {},
   "outputs": [
    {
     "name": "stdout",
     "output_type": "stream",
     "text": [
      "Apple        $0.99 \n",
      "Banana       $0.59 \n",
      "Orange       $1.29 \n",
      "\n",
      "********** $*****\n"
     ]
    }
   ],
   "source": [
    "A = 'Apple'\n",
    "B = 'Banana'\n",
    "C = 'Orange'\n",
    "Ap = '$0.99'\n",
    "Bp = '$0.59'\n",
    "Cp = '$1.29'\n",
    "print(f'{A:<10}',' ',f'{Ap:<6}') \n",
    "print(f'{B:<10}',' ',f'{Bp:<6}') \n",
    "print(f'{C:<10}',' ',f'{Cp:<6}\\n') \n",
    "print('********** $*****')"
   ]
  },
  {
   "cell_type": "code",
   "execution_count": 28,
   "id": "bd24939c-cb0b-4135-8e13-b7324caf0e3b",
   "metadata": {},
   "outputs": [
    {
     "name": "stdin",
     "output_type": "stream",
     "text": [
      "Enter the student's score: 31`\n"
     ]
    },
    {
     "name": "stdout",
     "output_type": "stream",
     "text": [
      "please input a valid integer between 0 and 100\n"
     ]
    }
   ],
   "source": [
    "input_ = input('Enter the student\\'s score:')\n",
    "\n",
    "if input_.isdigit():\n",
    "    input_ = int(input_)\n",
    "    if input_ <= 100 and input_>=70:\n",
    "        print('The student\\'s letter grade is: A')\n",
    "    elif input_ <= 69 and input_>=50:\n",
    "        print('The student\\'s letter grade is: B')\n",
    "    elif input_ <= 49 and input_>=35:\n",
    "        print('The student\\'s letter grade is: C')\n",
    "    elif input_ <= 34 and input_>=0:\n",
    "        print('The student\\'s letter grade is: Fail')\n",
    "    else:\n",
    "        print('please input a valid integer between 0 and 100')       \n",
    "else:\n",
    "    print('please input a valid integer between 0 and 100')\n"
   ]
  },
  {
   "cell_type": "code",
   "execution_count": 2,
   "id": "bcfd0ae6-5043-4b76-b212-08771ec86f64",
   "metadata": {},
   "outputs": [
    {
     "name": "stdout",
     "output_type": "stream",
     "text": [
      "120\n",
      "Invalid input\n"
     ]
    }
   ],
   "source": [
    "def factorial(n):\n",
    "    if n < 0:\n",
    "        return \"Invalid input\"\n",
    "    elif n == 0:\n",
    "        return 1\n",
    "    else:\n",
    "        result = 1\n",
    "        for number in range(1, n+1):\n",
    "            result *= number\n",
    "        return result\n",
    "\n",
    "\n",
    "print(factorial(5))   # Testing, expected output: 120\n",
    "print(factorial(-1))  # Testing, expected output: Invalid input"
   ]
  }
 ],
 "metadata": {
  "kernelspec": {
   "display_name": "Python 3 (ipykernel)",
   "language": "python",
   "name": "python3"
  },
  "language_info": {
   "codemirror_mode": {
    "name": "ipython",
    "version": 3
   },
   "file_extension": ".py",
   "mimetype": "text/x-python",
   "name": "python",
   "nbconvert_exporter": "python",
   "pygments_lexer": "ipython3",
   "version": "3.12.3"
  },
  "toc": {
   "base_numbering": 1,
   "nav_menu": {},
   "number_sections": true,
   "sideBar": true,
   "skip_h1_title": false,
   "title_cell": "Table of Contents",
   "title_sidebar": "Contents",
   "toc_cell": false,
   "toc_position": {},
   "toc_section_display": true,
   "toc_window_display": false
  },
  "vscode": {
   "interpreter": {
    "hash": "31f2aee4e71d21fbe5cf8b01ff0e069b9275f58929596ceb00d14d90e3e16cd6"
   }
  }
 },
 "nbformat": 4,
 "nbformat_minor": 5
}
