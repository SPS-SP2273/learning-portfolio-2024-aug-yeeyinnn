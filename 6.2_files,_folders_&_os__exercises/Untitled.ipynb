{
 "cells": [
  {
   "cell_type": "code",
   "execution_count": 1,
   "id": "66395cf9-34c3-4a6f-901b-2a914b44d71b",
   "metadata": {},
   "outputs": [
    {
     "ename": "SyntaxError",
     "evalue": "invalid character '’' (U+2019) (2659432455.py, line 2)",
     "output_type": "error",
     "traceback": [
      "\u001b[1;36m  Cell \u001b[1;32mIn[1], line 2\u001b[1;36m\u001b[0m\n\u001b[1;33m    Let me show you how to write a line at a time. This is useful when dealing with data generated on the fly. Since I don’t have such data now, I will split the lines of the previous text [The contents in both files will be slightly different. However, this is not a time to worry about that.].\u001b[0m\n\u001b[1;37m                                                                                                                          ^\u001b[0m\n\u001b[1;31mSyntaxError\u001b[0m\u001b[1;31m:\u001b[0m invalid character '’' (U+2019)\n"
     ]
    }
   ],
   "source": [
    "Writing to a file, line by line\n",
    "Let me show you how to write a line at a time. This is useful when dealing with data generated on the fly. Since I don’t have such data now, I will split the lines of the previous text [The contents in both files will be slightly different. However, this is not a time to worry about that.].\n",
    "\n",
    "with open('my-text-lines.txt', 'w') as file:\n",
    "    for line in text.splitlines():\n",
    "        file.writelines(line)````"
   ]
  },
  {
   "cell_type": "code",
   "execution_count": 2,
   "id": "3b587f94-e74d-4444-8f0e-c1bc309bacdf",
   "metadata": {},
   "outputs": [
    {
     "name": "stdout",
     "output_type": "stream",
     "text": [
      "\n",
      "Writing to a file, line by line Let me show you how to write a line at a time\n",
      "This is useful when dealing with data generated on the fly\n",
      "Since I don’t have such data now, I will split the lines of the previous text [The contents in both files will be slightly different\n",
      "However, this is not a time to worry about that.].\n",
      "\n"
     ]
    }
   ],
   "source": [
    "text ='''\n",
    "Writing to a file, line by line Let me show you how to write a line at a time. This is useful when dealing with data generated on the fly. Since I don’t have such data now, I will split the lines of the previous text [The contents in both files will be slightly different. However, this is not a time to worry about that.].\n",
    "'''\n",
    "for t in text.split('. '):\n",
    "    print(t,end ='\\n')\n"
   ]
  },
  {
   "cell_type": "code",
   "execution_count": 3,
   "id": "3abd58f2-f1fe-4775-8fe8-04240f70812f",
   "metadata": {},
   "outputs": [
    {
     "name": "stdout",
     "output_type": "stream",
     "text": [
      "\n",
      "Writing to a file, line by line Let me show you how to write a line at a time\n",
      "This is useful when dealing with data generated on the fly\n",
      "Since I don’t have such data now, I will split the lines of the previous text [The contents in both files will be slightly different\n",
      "However, this is not a time to worry about that.].\n",
      "\n"
     ]
    }
   ],
   "source": [
    "text = '''\n",
    "Writing to a file, line by line Let me show you how to write a line at a time. This is useful when dealing with data generated on the fly. Since I don’t have such data now, I will split the lines of the previous text [The contents in both files will be slightly different. However, this is not a time to worry about that.].\n",
    "'''\n",
    "\n",
    "# Split based on periods followed by spaces (sentences)\n",
    "for t in text.split('. '):\n",
    "    print(t, end='\\n')\n"
   ]
  },
  {
   "cell_type": "code",
   "execution_count": 5,
   "id": "96089946-d83e-49e1-9e9c-324aa340198c",
   "metadata": {},
   "outputs": [
    {
     "name": "stdout",
     "output_type": "stream",
     "text": [
      "1\n",
      "Writing to a file, line by line.1\n",
      "Let me show you how to write a line at a time.1\n",
      "This is useful when dealing with data generated on the fly.1\n",
      "Since I don’t have such data now, I will split the lines of the previous text.1\n",
      "The contents in both files will be slightly different.1\n",
      "However, this is not a time to worry about that.1\n"
     ]
    }
   ],
   "source": [
    "text = '''\n",
    "Writing to a file, line by line.\n",
    "Let me show you how to write a line at a time.\n",
    "This is useful when dealing with data generated on the fly.\n",
    "Since I don’t have such data now, I will split the lines of the previous text.\n",
    "The contents in both files will be slightly different.\n",
    "However, this is not a time to worry about that.\n",
    "'''\n",
    "for t in text.splitlines():\n",
    "    print(t, end='1\\n')\n"
   ]
  },
  {
   "cell_type": "code",
   "execution_count": 6,
   "id": "59cea951-8975-4092-a672-5fa1f2319eee",
   "metadata": {},
   "outputs": [
    {
     "name": "stdout",
     "output_type": "stream",
     "text": [
      "['files,_folders_&_os_(need)_exercises.ipynb', 'Untitled.ipynb']\n"
     ]
    }
   ],
   "source": [
    "import glob\n",
    "# * means everything,[can put any character here],it will show files starts with character od any of this.\n",
    "# [!can put any character here], '!'means not\n",
    "# ??can use to replace any single character\n",
    "print(glob.glob('*.*', recursive = True))"
   ]
  }
 ],
 "metadata": {
  "kernelspec": {
   "display_name": "Python 3 (ipykernel)",
   "language": "python",
   "name": "python3"
  },
  "language_info": {
   "codemirror_mode": {
    "name": "ipython",
    "version": 3
   },
   "file_extension": ".py",
   "mimetype": "text/x-python",
   "name": "python",
   "nbconvert_exporter": "python",
   "pygments_lexer": "ipython3",
   "version": "3.12.3"
  }
 },
 "nbformat": 4,
 "nbformat_minor": 5
}
