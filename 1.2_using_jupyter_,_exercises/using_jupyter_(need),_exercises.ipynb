{
 "cells": [
  {
   "attachments": {},
   "cell_type": "markdown",
   "id": "123456",
   "metadata": {},
   "source": [
    "<div style=\"text-align:left;font-size:2em\"><span style=\"font-weight:bolder;font-size:1.25em\">SP2273 | Learning Portfolio</span><br><br><span style=\"font-weight:bold;color:darkred\">Using Jupyter (Need), Exercises</span></div>"
   ]
  },
  {
   "attachments": {},
   "cell_type": "markdown",
   "id": "5109f627",
   "metadata": {},
   "source": [
    "## 1 Quadratic Equations"
   ]
  },
  {
   "attachments": {},
   "cell_type": "markdown",
   "id": "d4016c02",
   "metadata": {},
   "source": [
    "### Introduction"
   ]
  },
  {
   "cell_type": "markdown",
   "id": "408a9235-a00f-459a-a29d-c0e4e35f341b",
   "metadata": {},
   "source": [
    "![](https://upload.wikimedia.org/wikipedia/commons/thumb/f/f8/Polynomialdeg2.svg/450px-Polynomialdeg2.svg.png)\n",
    "\n",
    "(Image from the <u>[Wikipedia page on Quadratic equations](https://en.wikipedia.org/wiki/Quadratic_equation)</u>)<br>\n",
    "The general form of a quadratic equation is:\n",
    "$$ax^2+bx+c=0$$\n"
   ]
  },
  {
   "attachments": {},
   "cell_type": "markdown",
   "id": "60f54d93",
   "metadata": {},
   "source": [
    "### Solutions"
   ]
  },
  {
   "cell_type": "markdown",
   "id": "92f7932b-d710-4631-a3ab-dbd337672274",
   "metadata": {},
   "source": [
    "Provided $a\\ne0$ we can use an elementary algebraic method called <u>[completing the square](https://en.wikipedia.org/wiki/Completing_the_square)</u> to show that a quadratic equation has the following solution:\n",
    "\n",
    "$$\n",
    "x=\\dfrac{-b\\pm\\sqrt{b^2-4ac}}{2a}\n",
    "$$\n"
   ]
  },
  {
   "attachments": {},
   "cell_type": "markdown",
   "id": "a9da6e91",
   "metadata": {},
   "source": [
    "### Discriminant"
   ]
  },
  {
   "cell_type": "markdown",
   "id": "e7295be6-5835-4e8a-8e3f-75b35100a312",
   "metadata": {},
   "source": [
    "The quantity $\\Delta = b^2-4ac$ is called the **discriminant** of the equation and decides the nature of its solutions. The table below shows the various possibilities.\n",
    "\n",
    "|Discriminant|Roots|\n",
    "|:---|:---|\n",
    "|$\\Delta=b^2-4ac=0$|A single solution of $-b/(2a)$|\n",
    "|$\\Delta=b^2-4ac>0$|Two distinct solutions|\n",
    "|$\\Delta=b^2-4ac<0$|No real solutions; both are complex.|"
   ]
  },
  {
   "cell_type": "markdown",
   "id": "bd563a04-1ad0-4167-909a-fa71c84729f9",
   "metadata": {},
   "source": [
    "## Exercise 2 (In Your Own Words) \n",
    "In your own words, use a Markdown cell to answer the following question.\n",
    "If you are unsure of the answer, please first consult with an instructor or a friend. Only then should you use the internet for additional information \n",
    "\n",
    "**1.What is a Git repository?<br>**\n",
    "    A space or location which store files and codes. Allows people to track back each version of changes. Allows multiple people work together on the same file. \n",
    "    \n",
    "**2.Git keeps tracks of *changes* in the files in our repository.**\n",
    "\n",
    "**3.What is a commit?<br>**\n",
    "    Remark what changes have done can that can be a refered in the future.\n",
    "    \n",
    "**4.What is a push?<br>**\n",
    "    Uploading lastest changes of the file from desktop to the cloud.\n",
    "    \n",
    "**5.What is a pull?<br>**\n",
    "    Downloading lastest changes of the file from cloud to the desktop.\n",
    "    \n",
    "**6.What is the difference between GitHub and GitHub Desktop?<br>**\n",
    "    Github is web-based platform hosting the repositories which can share the content with others, Github Desktop is on the local computer desktop which we can make changes without affecting the original one.<br>\n",
    "    "
   ]
  },
  {
   "cell_type": "markdown",
   "id": "b49d0aa5-773e-489e-983f-8944721013ba",
   "metadata": {},
   "source": [
    "## Exercise 3 (A Matter of Statistics) \n",
    "The mean ($\\mu$), standard deviation ($\\sigma$), and Pearson correlation coefficient ($r$) are important statistical parameters. Given variables $x$ and $y$ representing the $i$-th values in a dataset with $n$ pairs, use Markdown notation to write the equations for these parameters.\n",
    "\n",
    "Your equations should ideally look like the following. You might find [this resource](https://www.cmor-faculty.rice.edu/~heinken/latex/symbols.pdf) from Rice University useful.\n",
    "\n",
    "\n",
    "$$\n",
    "\\mu= \\frac{1}{n}\\sum_{i=1}^{n} x_i \\\\\n",
    "$$\n",
    "\n",
    "$$\n",
    "\\sigma= \\sqrt{\\frac{1}{n}\\sum_{i=1}^{n} (x_i-\\mu)^2 \\\\}\n",
    "$$\n",
    "$$\n",
    "r= \\frac{\\sum_{i=1}^{n} (x_i-\\mu_X)(y_i-\\mu_Y) \\\\}{\\sqrt{\\sum_{i=1}^{n} (x_i-\\mu_X)^2 \\\\\\sum_{i=1}^{n} (y_i-\\mu_Y)^2 \\\\}}\n",
    "$$\n"
   ]
  }
 ],
 "metadata": {
  "kernelspec": {
   "display_name": "Python 3 (ipykernel)",
   "language": "python",
   "name": "python3"
  },
  "language_info": {
   "codemirror_mode": {
    "name": "ipython",
    "version": 3
   },
   "file_extension": ".py",
   "mimetype": "text/x-python",
   "name": "python",
   "nbconvert_exporter": "python",
   "pygments_lexer": "ipython3",
   "version": "3.12.3"
  },
  "toc": {
   "base_numbering": 1,
   "nav_menu": {},
   "number_sections": true,
   "sideBar": true,
   "skip_h1_title": false,
   "title_cell": "Table of Contents",
   "title_sidebar": "Contents",
   "toc_cell": false,
   "toc_position": {},
   "toc_section_display": true,
   "toc_window_display": false
  },
  "vscode": {
   "interpreter": {
    "hash": "31f2aee4e71d21fbe5cf8b01ff0e069b9275f58929596ceb00d14d90e3e16cd6"
   }
  }
 },
 "nbformat": 4,
 "nbformat_minor": 5
}
