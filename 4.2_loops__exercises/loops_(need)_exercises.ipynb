{
 "cells": [
  {
   "attachments": {},
   "cell_type": "markdown",
   "id": "123456",
   "metadata": {},
   "source": [
    "<div style=\"text-align:left;font-size:2em\"><span style=\"font-weight:bolder;font-size:1.25em\">SP2273 | Learning Portfolio</span><br><br><span style=\"font-weight:bold;color:darkred\">Loops (Need) Exercises</span></div>"
   ]
  },
  {
   "cell_type": "code",
   "execution_count": 82,
   "id": "5ca7bbab-2620-419e-83fe-6c5c5bc4dcb1",
   "metadata": {},
   "outputs": [
    {
     "name": "stdout",
     "output_type": "stream",
     "text": [
      "[[  0  20]\n",
      " [  5  30]\n",
      " [ 10  40]\n",
      " [ 15  50]\n",
      " [ 20  60]\n",
      " [ 25  70]\n",
      " [ 30  80]\n",
      " [ 35  90]\n",
      " [ 40 100]\n",
      " [ 45 110]\n",
      " [ 50 120]]\n"
     ]
    }
   ],
   "source": [
    "import numpy as np\n",
    "\n",
    "temperatures_celsius = [\n",
    "    0, 5, 10, 15, 20, 25,\n",
    "    30, 35, 40, 45, 50\n",
    "]\n",
    "\n",
    "n = len(temperatures_celsius)\n",
    "\n",
    "temperatures_celsius = np.array(temperatures_celsius)\n",
    "temperatures_fahrenheit = temperatures_celsius*2 +20 \n",
    "\n",
    "temp_pair = np.array([[0,0]]*n)\n",
    "\n",
    "for i in range(len(temperatures_celsius)):\n",
    "    temp_pair[i][0] = temperatures_celsius[i]\n",
    "    temp_pair[i][1] = temperatures_fahrenheit[i]\n",
    "    #print (temperatures_celsius[i], temperatures_fahrenheit[i])\n",
    "   \n",
    "print(temp_pair)"
   ]
  },
  {
   "cell_type": "code",
   "execution_count": 36,
   "id": "da1f5027-33f3-443c-8cdf-89385e27fb4a",
   "metadata": {},
   "outputs": [
    {
     "name": "stdout",
     "output_type": "stream",
     "text": [
      "1: 1  2  3  4  5 \n",
      "2: 6  7  8  9  10\n",
      "3: 11 12 13 14 15\n",
      "4: 16 17 18 19 20\n",
      "5: 21 22 23 24 25\n"
     ]
    }
   ],
   "source": [
    "j = 1\n",
    "for i in range(1,6):\n",
    "    print(f'{i}: {j:<2} {j+1:<2} {j+2:<2} {j+3:<2} {j+4}')\n",
    "    j = j+5\n",
    "    "
   ]
  },
  {
   "cell_type": "code",
   "execution_count": 55,
   "id": "d79db91b-6edf-491d-ace7-ff0cea1e0f4e",
   "metadata": {},
   "outputs": [
    {
     "name": "stdout",
     "output_type": "stream",
     "text": [
      "Experiment  1: No. of Heads = 3\n",
      "Experiment  2: No. of Heads = 4\n",
      "Experiment  3: No. of Heads = 3\n",
      "Experiment  4: No. of Heads = 6\n",
      "Experiment  5: No. of Heads = 6\n",
      "Experiment  6: No. of Heads = 4\n",
      "Experiment  7: No. of Heads = 7\n",
      "Experiment  8: No. of Heads = 3\n",
      "Experiment  9: No. of Heads = 3\n",
      "Experiment 10: No. of Heads = 6\n"
     ]
    }
   ],
   "source": [
    "import numpy as np\n",
    "for i in range(1,11):\n",
    "    array1 = np.random.rand(10)\n",
    "    compare = array1>=0.5\n",
    "    #print(compare)\n",
    "    print (f'Experiment {i:>2}: No. of Heads = {sum(compare)}')"
   ]
  }
 ],
 "metadata": {
  "kernelspec": {
   "display_name": "Python 3 (ipykernel)",
   "language": "python",
   "name": "python3"
  },
  "language_info": {
   "codemirror_mode": {
    "name": "ipython",
    "version": 3
   },
   "file_extension": ".py",
   "mimetype": "text/x-python",
   "name": "python",
   "nbconvert_exporter": "python",
   "pygments_lexer": "ipython3",
   "version": "3.12.3"
  },
  "toc": {
   "base_numbering": 1,
   "nav_menu": {},
   "number_sections": true,
   "sideBar": true,
   "skip_h1_title": false,
   "title_cell": "Table of Contents",
   "title_sidebar": "Contents",
   "toc_cell": false,
   "toc_position": {},
   "toc_section_display": true,
   "toc_window_display": false
  },
  "vscode": {
   "interpreter": {
    "hash": "31f2aee4e71d21fbe5cf8b01ff0e069b9275f58929596ceb00d14d90e3e16cd6"
   }
  }
 },
 "nbformat": 4,
 "nbformat_minor": 5
}
