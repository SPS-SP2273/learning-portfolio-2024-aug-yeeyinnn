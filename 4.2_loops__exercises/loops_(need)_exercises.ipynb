{
 "cells": [
  {
   "attachments": {},
   "cell_type": "markdown",
   "id": "123456",
   "metadata": {},
   "source": [
    "<div style=\"text-align:left;font-size:2em\"><span style=\"font-weight:bolder;font-size:1.25em\">SP2273 | Learning Portfolio</span><br><br><span style=\"font-weight:bold;color:darkred\">Loops (Need) Exercises</span></div>"
   ]
  },
  {
   "cell_type": "code",
   "execution_count": 5,
   "id": "5ca7bbab-2620-419e-83fe-6c5c5bc4dcb1",
   "metadata": {},
   "outputs": [
    {
     "name": "stdout",
     "output_type": "stream",
     "text": [
      "[[  0  32]\n",
      " [  5  41]\n",
      " [ 10  50]\n",
      " [ 15  59]\n",
      " [ 20  68]\n",
      " [ 25  77]\n",
      " [ 30  86]\n",
      " [ 35  95]\n",
      " [ 40 104]\n",
      " [ 45 113]\n",
      " [ 50 122]]\n"
     ]
    }
   ],
   "source": [
    "import numpy as np\n",
    "\n",
    "temperatures_celsius = [\n",
    "    0, 5, 10, 15, 20, 25,\n",
    "    30, 35, 40, 45, 50\n",
    "]\n",
    "\n",
    "n = len(temperatures_celsius)\n",
    "\n",
    "temperatures_celsius = np.array(temperatures_celsius)\n",
    "temperatures_fahrenheit = temperatures_celsius*9/5 + 32\n",
    "\n",
    "temp_pair = np.array([[0,0]]*n)\n",
    "\n",
    "for i in range(len(temperatures_celsius)):\n",
    "    temp_pair[i][0] = temperatures_celsius[i]\n",
    "    temp_pair[i][1] = temperatures_fahrenheit[i]\n",
    "    #print (temperatures_celsius[i], temperatures_fahrenheit[i])\n",
    "   \n",
    "print(temp_pair)"
   ]
  },
  {
   "cell_type": "code",
   "execution_count": 51,
   "id": "f9b6110e-2394-4e9d-9fc2-ba82215c1fc5",
   "metadata": {},
   "outputs": [
    {
     "name": "stdout",
     "output_type": "stream",
     "text": [
      "1 : 1   2   3   4   5   \n",
      "2 : 2   4   6   8   10  \n",
      "3 : 3   6   9   12  15  \n",
      "4 : 4   8   12  16  20  \n",
      "5 : 5   10  15  20  25  \n"
     ]
    }
   ],
   "source": [
    "for i in range(1,6):\n",
    "    print(f'{i} : ', end = '')\n",
    "    for j in range(1,6):\n",
    "        print(f'{j * i :<4}', end = '')\n",
    "    print('')"
   ]
  },
  {
   "cell_type": "code",
   "execution_count": 55,
   "id": "d79db91b-6edf-491d-ace7-ff0cea1e0f4e",
   "metadata": {},
   "outputs": [
    {
     "name": "stdout",
     "output_type": "stream",
     "text": [
      "Experiment  1: No. of Heads = 3\n",
      "Experiment  2: No. of Heads = 4\n",
      "Experiment  3: No. of Heads = 3\n",
      "Experiment  4: No. of Heads = 6\n",
      "Experiment  5: No. of Heads = 6\n",
      "Experiment  6: No. of Heads = 4\n",
      "Experiment  7: No. of Heads = 7\n",
      "Experiment  8: No. of Heads = 3\n",
      "Experiment  9: No. of Heads = 3\n",
      "Experiment 10: No. of Heads = 6\n"
     ]
    }
   ],
   "source": [
    "import numpy as np\n",
    "for i in range(1,11):\n",
    "    array1 = np.random.rand(10)\n",
    "    compare = array1>=0.5\n",
    "    #print(compare)\n",
    "    print (f'Experiment {i:>2}: No. of Heads = {sum(compare)}')"
   ]
  }
 ],
 "metadata": {
  "kernelspec": {
   "display_name": "Python 3 (ipykernel)",
   "language": "python",
   "name": "python3"
  },
  "language_info": {
   "codemirror_mode": {
    "name": "ipython",
    "version": 3
   },
   "file_extension": ".py",
   "mimetype": "text/x-python",
   "name": "python",
   "nbconvert_exporter": "python",
   "pygments_lexer": "ipython3",
   "version": "3.12.3"
  },
  "toc": {
   "base_numbering": 1,
   "nav_menu": {},
   "number_sections": true,
   "sideBar": true,
   "skip_h1_title": false,
   "title_cell": "Table of Contents",
   "title_sidebar": "Contents",
   "toc_cell": false,
   "toc_position": {},
   "toc_section_display": true,
   "toc_window_display": false
  },
  "vscode": {
   "interpreter": {
    "hash": "31f2aee4e71d21fbe5cf8b01ff0e069b9275f58929596ceb00d14d90e3e16cd6"
   }
  }
 },
 "nbformat": 4,
 "nbformat_minor": 5
}
