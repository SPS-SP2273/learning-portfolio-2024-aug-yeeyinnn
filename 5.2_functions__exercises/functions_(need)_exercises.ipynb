{
 "cells": [
  {
   "attachments": {},
   "cell_type": "markdown",
   "id": "123456",
   "metadata": {},
   "source": [
    "<div style=\"text-align:left;font-size:2em\"><span style=\"font-weight:bolder;font-size:1.25em\">SP2273 | Learning Portfolio</span><br><br><span style=\"font-weight:bold;color:darkred\">Functions (Need) Exercises</span></div>"
   ]
  },
  {
   "cell_type": "code",
   "execution_count": 2,
   "id": "9677044c-0fa3-4cb4-927e-38516734e8cd",
   "metadata": {},
   "outputs": [],
   "source": [
    "def greeting(name):\n",
    "    if name == 'Batman':\n",
    "        return 'Hello Batman! So, nice to meet you!'\n",
    "    return f'Hello {name}!'"
   ]
  },
  {
   "cell_type": "markdown",
   "id": "58439776-7359-48b6-8668-a0c31deaffa6",
   "metadata": {},
   "source": [
    "Above code works as expected despite not having `else` statement because condition which not fulfill the if statement will skip it and continue on `return f'Hello {name}!'` which is same meaning as using `else:` then `return f'Hello {name}!'`"
   ]
  },
  {
   "cell_type": "code",
   "execution_count": 9,
   "id": "16b626d7-1966-4a7e-9e13-933ba57093f4",
   "metadata": {},
   "outputs": [
    {
     "data": {
      "text/plain": [
       "'Underweight'"
      ]
     },
     "execution_count": 9,
     "metadata": {},
     "output_type": "execute_result"
    }
   ],
   "source": [
    "def calculate_bmi(weight,height):\n",
    "    BMI = weight / (height ** 2)\n",
    "    if BMI<=18.5:\n",
    "        return 'Underweight'\n",
    "    elif 18.5<BMI and BMI<=24.95:\n",
    "        return 'Normal weight'\n",
    "    elif 24.95<BMI and BMI<=29.95:\n",
    "        return 'Overweight'\n",
    "    elif BMI>29.95:\n",
    "        return 'Obese'"
   ]
  },
  {
   "cell_type": "code",
   "execution_count": null,
   "id": "540a1801-a327-4e5d-86d0-3f7f812acaeb",
   "metadata": {},
   "outputs": [],
   "source": [
    "def fac(n):\n",
    "    a = 1\n",
    "    for i in range(1,n+1):\n",
    "        a = a * i\n",
    "    return a\n"
   ]
  }
 ],
 "metadata": {
  "kernelspec": {
   "display_name": "Python 3 (ipykernel)",
   "language": "python",
   "name": "python3"
  },
  "language_info": {
   "codemirror_mode": {
    "name": "ipython",
    "version": 3
   },
   "file_extension": ".py",
   "mimetype": "text/x-python",
   "name": "python",
   "nbconvert_exporter": "python",
   "pygments_lexer": "ipython3",
   "version": "3.12.3"
  },
  "toc": {
   "base_numbering": 1,
   "nav_menu": {},
   "number_sections": true,
   "sideBar": true,
   "skip_h1_title": false,
   "title_cell": "Table of Contents",
   "title_sidebar": "Contents",
   "toc_cell": false,
   "toc_position": {},
   "toc_section_display": true,
   "toc_window_display": false
  },
  "vscode": {
   "interpreter": {
    "hash": "31f2aee4e71d21fbe5cf8b01ff0e069b9275f58929596ceb00d14d90e3e16cd6"
   }
  }
 },
 "nbformat": 4,
 "nbformat_minor": 5
}
