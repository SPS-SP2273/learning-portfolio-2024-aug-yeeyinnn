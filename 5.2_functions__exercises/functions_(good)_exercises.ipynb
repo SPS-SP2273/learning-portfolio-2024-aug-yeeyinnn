{
 "cells": [
  {
   "attachments": {},
   "cell_type": "markdown",
   "id": "123456",
   "metadata": {},
   "source": [
    "<div style=\"text-align:left;font-size:2em\"><span style=\"font-weight:bolder;font-size:1.25em\">SP2273 | Learning Portfolio</span><br><br><span style=\"font-weight:bold;color:darkred\">Functions (Good) Exercises</span></div>"
   ]
  },
  {
   "cell_type": "code",
   "execution_count": 30,
   "id": "fd4b85fe-5c6d-4c58-b475-7c73fc45b858",
   "metadata": {},
   "outputs": [
    {
     "name": "stdout",
     "output_type": "stream",
     "text": [
      "70\n",
      "293\n"
     ]
    }
   ],
   "source": [
    "def convert_celsius(temperature_celsius,scale = 'Fahrenheit'):\n",
    "    n = temperature_celsius\n",
    "    if scale == 'Fahrenheit':\n",
    "        n = 2 * n + 30\n",
    "    elif scale == 'Kelvin':\n",
    "        n = n + 273\n",
    "    return n\n",
    "\n",
    "print(convert_celsius(20, scale = 'Fahrenheit'))\n",
    "print(convert_celsius(20, scale = 'Kelvin'))"
   ]
  },
  {
   "cell_type": "code",
   "execution_count": 31,
   "id": "38cf40a9-927a-47f9-86cc-c73d7dd52cb1",
   "metadata": {},
   "outputs": [
    {
     "name": "stdout",
     "output_type": "stream",
     "text": [
      "20.0\n",
      "293.0\n"
     ]
    }
   ],
   "source": [
    "def convert_fahrenheit(temperature_fahrenheit,scale = 'Celsius'):\n",
    "    n = temperature_fahrenheit\n",
    "    if scale == 'Celsius':\n",
    "        n = (n - 30)/2\n",
    "    elif scale == 'Kelvin':\n",
    "        n = (n - 30)/2 + 273\n",
    "    return n\n",
    "\n",
    "print(convert_fahrenheit(70, ))\n",
    "print(convert_fahrenheit(70, scale = 'Kelvin'))"
   ]
  },
  {
   "cell_type": "code",
   "execution_count": 32,
   "id": "2f7cbabf-ea25-4cb4-8fe9-24b8db8ad391",
   "metadata": {},
   "outputs": [
    {
     "data": {
      "text/plain": [
       "293"
      ]
     },
     "execution_count": 32,
     "metadata": {},
     "output_type": "execute_result"
    }
   ],
   "source": [
    "def convert_kelvin(temperature_kelvin,scale):\n",
    "    n = temperature_kelvin\n",
    "    if scale == 'Celsius':\n",
    "        n = n - 273\n",
    "    elif scale == 'Fahrenheit':\n",
    "        n = 2 * (n - 273) + 30\n",
    "    return n\n",
    "\n",
    "convert_kelvins(20,'Celsius')"
   ]
  },
  {
   "cell_type": "code",
   "execution_count": 33,
   "id": "a13a366f-f2e9-4c09-9999-98a2e4e7794e",
   "metadata": {},
   "outputs": [
    {
     "name": "stdout",
     "output_type": "stream",
     "text": [
      "293\n",
      "70\n",
      "268.0\n",
      "-5.0\n",
      "-476\n",
      "-253\n"
     ]
    }
   ],
   "source": [
    "def convert_temperature(temperature,source_scale,target_scale):\n",
    "    if source_scale == 'Fahrenheit':\n",
    "        return convert_fahrenheit(temperature,scale = target_scale)\n",
    "    elif source_scale == 'Celsius':\n",
    "        return convert_celsius(temperature,scale = target_scale)\n",
    "    elif source_scale == 'Kelvin':\n",
    "        return convert_kelvin(temperature,scale = target_scale)\n",
    "\n",
    "print(convert_temperature(20,'Celsius','Kelvin'))\n",
    "print(convert_temperature(20,'Celsius','Fahrenheit'))\n",
    "\n",
    "print(convert_temperature(20,'Fahrenheit','Kelvin'))\n",
    "print(convert_temperature(20,'Fahrenheit','Celsius'))\n",
    "\n",
    "print(convert_temperature(20,'Kelvin','Fahrenheit'))\n",
    "print(convert_temperature(20,'Kelvin','Celsius'))"
   ]
  }
 ],
 "metadata": {
  "kernelspec": {
   "display_name": "Python 3 (ipykernel)",
   "language": "python",
   "name": "python3"
  },
  "language_info": {
   "codemirror_mode": {
    "name": "ipython",
    "version": 3
   },
   "file_extension": ".py",
   "mimetype": "text/x-python",
   "name": "python",
   "nbconvert_exporter": "python",
   "pygments_lexer": "ipython3",
   "version": "3.12.3"
  },
  "toc": {
   "base_numbering": 1,
   "nav_menu": {},
   "number_sections": true,
   "sideBar": true,
   "skip_h1_title": false,
   "title_cell": "Table of Contents",
   "title_sidebar": "Contents",
   "toc_cell": false,
   "toc_position": {},
   "toc_section_display": true,
   "toc_window_display": false
  },
  "vscode": {
   "interpreter": {
    "hash": "31f2aee4e71d21fbe5cf8b01ff0e069b9275f58929596ceb00d14d90e3e16cd6"
   }
  }
 },
 "nbformat": 4,
 "nbformat_minor": 5
}
