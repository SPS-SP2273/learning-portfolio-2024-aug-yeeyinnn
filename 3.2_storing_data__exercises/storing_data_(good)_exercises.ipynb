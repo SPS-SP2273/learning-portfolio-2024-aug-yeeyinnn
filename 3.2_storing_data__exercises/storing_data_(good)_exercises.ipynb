{
 "cells": [
  {
   "attachments": {},
   "cell_type": "markdown",
   "id": "123456",
   "metadata": {},
   "source": [
    "<div style=\"text-align:left;font-size:2em\"><span style=\"font-weight:bolder;font-size:1.25em\">SP2273 | Learning Portfolio</span><br><br><span style=\"font-weight:bold;color:darkred\">Storing Data (Good) Exercises</span></div>"
   ]
  },
  {
   "cell_type": "markdown",
   "id": "60d0ab10-7123-4f1b-b4b4-244b3d376778",
   "metadata": {},
   "source": [
    "|Term|Brief description|\n",
    "|:---|:---|\n",
    "|Sudsetting|Subsetting means to ‘select’.|\n",
    "|Indexing|Indexing refers to selecting one element.|\n",
    "|Slicing|Slicing refers to selecting a range of elements.|\n",
    "|Masking|Masking is using Boolean array to select element from another array.|"
   ]
  },
  {
   "cell_type": "code",
   "execution_count": 58,
   "id": "c4eddb6e-e2fc-474e-bf51-e7cb2c381ffa",
   "metadata": {},
   "outputs": [
    {
     "name": "stdout",
     "output_type": "stream",
     "text": [
      "['A' 'C' 'E' 'G' 'I']\n"
     ]
    }
   ],
   "source": [
    "import numpy as np\n",
    "np_array_2d = np.array([[1, \"A\"], [3, \"C\"], [2, \"B\"], [4, \"D\"],\n",
    "                        [5, \"E\"], [7, \"G\"], [6, \"F\"], [8, \"H\"],\n",
    "                        [10, \"J\"], [9, \"I\"]])\n",
    "\n",
    "#convert column 0 into int\n",
    "column0 = np_array_2d[:,0].astype(int)\n",
    "#find remainder of 2\n",
    "column0_rem2 = column0%2\n",
    "\n",
    "column0_bool = column0_rem2 == 1\n",
    "com = np_array_2d[column0_bool]\n",
    "\n",
    "print(com[:,1])"
   ]
  },
  {
   "cell_type": "code",
   "execution_count": 67,
   "id": "ba1ed337-6f1b-46ce-b7b4-944a185782aa",
   "metadata": {},
   "outputs": [
    {
     "name": "stdout",
     "output_type": "stream",
     "text": [
      "[[1, 0, 1, -1, -1], [1, -1, 1, -1, -1], [1, -1, -1, 1, -1], [-1, 1, 1, -1, -1], [1, -1, 1, -1, 1]]\n"
     ]
    }
   ],
   "source": [
    "array1 = [[66, 50, 57, -1, -1],\n",
    " [92, -1, 88, -1, -1],\n",
    " [75, -1, -1, 76, -1],\n",
    " [-1, 51, 87, -1, -1],\n",
    " [71, -1, 67, -1, 69]]\n",
    "\n",
    "\n",
    "\n",
    "for i in range(len(array1)):\n",
    "    for j in range(len(array1)):\n",
    "        if array1[i][j] < 50:\n",
    "            array1[i][j] = -1\n",
    "        if array1[i][j] == 50:\n",
    "            array1[i][j] = 0\n",
    "        if array1[i][j] > 50:\n",
    "            array1[i][j] = 1\n",
    "\n",
    "print(array1)"
   ]
  }
 ],
 "metadata": {
  "kernelspec": {
   "display_name": "Python 3 (ipykernel)",
   "language": "python",
   "name": "python3"
  },
  "language_info": {
   "codemirror_mode": {
    "name": "ipython",
    "version": 3
   },
   "file_extension": ".py",
   "mimetype": "text/x-python",
   "name": "python",
   "nbconvert_exporter": "python",
   "pygments_lexer": "ipython3",
   "version": "3.12.3"
  },
  "toc": {
   "base_numbering": 1,
   "nav_menu": {},
   "number_sections": true,
   "sideBar": true,
   "skip_h1_title": false,
   "title_cell": "Table of Contents",
   "title_sidebar": "Contents",
   "toc_cell": false,
   "toc_position": {},
   "toc_section_display": true,
   "toc_window_display": false
  },
  "vscode": {
   "interpreter": {
    "hash": "31f2aee4e71d21fbe5cf8b01ff0e069b9275f58929596ceb00d14d90e3e16cd6"
   }
  }
 },
 "nbformat": 4,
 "nbformat_minor": 5
}
