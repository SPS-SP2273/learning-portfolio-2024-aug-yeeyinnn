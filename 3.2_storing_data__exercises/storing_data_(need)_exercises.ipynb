{
 "cells": [
  {
   "attachments": {},
   "cell_type": "markdown",
   "id": "123456",
   "metadata": {},
   "source": [
    "<div style=\"text-align:left;font-size:2em\"><span style=\"font-weight:bolder;font-size:1.25em\">SP2273 | Learning Portfolio</span><br><br><span style=\"font-weight:bold;color:darkred\">Storing Data (Need) Exercises</span></div>"
   ]
  },
  {
   "cell_type": "markdown",
   "id": "5f4e9278-d254-4910-8029-7b7426242338",
   "metadata": {},
   "source": [
    "##### Two similarities between lists and arrays.\n",
    "They both store data<br>\n",
    "Element in both can be access <br>\n",
    "*Zero-indexed language, index starts from 0*\n",
    "##### Two differences between lists and arrays.\n",
    "list can handle different type of data, but array only one<br>\n",
    "array can use math operator which act on each element, list better on add or remove elements\n",
    "##### What is a dictionary?\n",
    "Dictionary is a way to store data. *Dictionaries hold data (values) paired with a key. You can access the value using the real name as a key.*"
   ]
  },
  {
   "cell_type": "code",
   "execution_count": 2,
   "id": "39691686-654e-45f6-bee6-6b883f63d570",
   "metadata": {},
   "outputs": [
    {
     "name": "stdout",
     "output_type": "stream",
     "text": [
      "['a1', 'c3', 'e5', 'g7', 'i9']\n"
     ]
    }
   ],
   "source": [
    "py_list = [\"a1\", \"b2\", \"c3\", \"d4\", \"e5\", \"f6\", \"g7\", \"h8\", \"i9\", \"j10\"]\n",
    "\n",
    "print(py_list[::2])   "
   ]
  },
  {
   "cell_type": "code",
   "execution_count": 1,
   "id": "df787ea1-9c94-4a9e-a5b2-16eb3052761d",
   "metadata": {},
   "outputs": [
    {
     "name": "stdout",
     "output_type": "stream",
     "text": [
      "Boron\n",
      "Boron\n"
     ]
    }
   ],
   "source": [
    "elements = ['Hydrogen',\n",
    "            'Helium', 'Lithium',\n",
    "            'Beryllium', 'Boron', 'Carbon',\n",
    "            'Nitrogen', 'Oxygen',\n",
    "            'Fluorine',\n",
    "            'Neon']\n",
    "print(elements[4])\n",
    "print(elements[-6])"
   ]
  },
  {
   "cell_type": "code",
   "execution_count": 27,
   "id": "5d3bf968-cef1-4bca-a046-c843fdc107d2",
   "metadata": {},
   "outputs": [
    {
     "name": "stdout",
     "output_type": "stream",
     "text": [
      "9\n",
      "9\n"
     ]
    }
   ],
   "source": [
    "import numpy as np\n",
    "numbers=[45, 60, 1, 30, 96, 1, 96, 57, 16, 1,\n",
    "        99, 62, 86, 43, 42, 60, 59, 1, 1, 35,\n",
    "        83, 47, 34, 28, 68, 23, 22, 92, 1, 79,\n",
    "        1, 29, 94, 72, 46, 47, 1, 74, 32, 20,\n",
    "        8, 37, 35, 1, 89, 29, 86, 19, 43, 61] \n",
    "array_numbers = np.array(numbers)\n",
    "\n",
    "j=0\n",
    "for i in range(len(array_numbers)):\n",
    "    if array_numbers[i] == 1:\n",
    "        j = j +1\n",
    "print(j)\n",
    "\n",
    "\n",
    "#or\n",
    "my_array = array_numbers == 1\n",
    "print(my_array.sum())\n"
   ]
  },
  {
   "cell_type": "markdown",
   "id": "760f67c1-71ef-44ad-9a71-afcc06a7dfb2",
   "metadata": {},
   "source": [
    "![](https://wikimedia.org/api/rest_v1/media/math/render/svg/2b9c2079a3ffc1aacd36201ea0a3fb2460dc226f)"
   ]
  },
  {
   "cell_type": "code",
   "execution_count": 49,
   "id": "f186deb6-11b1-4ebb-a4ed-879002f858a6",
   "metadata": {},
   "outputs": [
    {
     "name": "stdout",
     "output_type": "stream",
     "text": [
      "0.9871796626270701\n",
      "[[1.         0.98717966]\n",
      " [0.98717966 1.        ]]\n"
     ]
    }
   ],
   "source": [
    "x_1 = [1, 4, 9, 16, 25, 36, 49, 64, 81, 100]\n",
    "x_2 = [1, 8, 27, 64, 125, 216, 343, 512, 729, 1000]\n",
    "arrayx_1 = np.array(x_1)\n",
    "arrayx_2 = np.array(x_2)\n",
    "\n",
    "mean1 = arrayx_1.mean()\n",
    "mean2 = arrayx_2.mean()\n",
    "\n",
    "std1 = arrayx_1.std()\n",
    "std2 = arrayx_2.std()\n",
    "\n",
    "diffx_1 = arrayx_1 - arrayx_1.mean()\n",
    "diffx_2 = arrayx_2 - arrayx_2.mean()\n",
    "\n",
    "above = (diffx_1 * diffx_2).sum()\n",
    "below = np.sqrt((diffx_1**2).sum()) * np.sqrt((diffx_2**2).sum())\n",
    "\n",
    "r = above / below\n",
    "print(r)\n",
    "##using np.corrcoef() directly\n",
    "r_direct = np.corrcoef(arrayx_1, arrayx_2)\n",
    "print(r_direct)"
   ]
  }
 ],
 "metadata": {
  "kernelspec": {
   "display_name": "Python 3 (ipykernel)",
   "language": "python",
   "name": "python3"
  },
  "language_info": {
   "codemirror_mode": {
    "name": "ipython",
    "version": 3
   },
   "file_extension": ".py",
   "mimetype": "text/x-python",
   "name": "python",
   "nbconvert_exporter": "python",
   "pygments_lexer": "ipython3",
   "version": "3.12.3"
  },
  "toc": {
   "base_numbering": 1,
   "nav_menu": {},
   "number_sections": true,
   "sideBar": true,
   "skip_h1_title": false,
   "title_cell": "Table of Contents",
   "title_sidebar": "Contents",
   "toc_cell": false,
   "toc_position": {},
   "toc_section_display": true,
   "toc_window_display": false
  },
  "vscode": {
   "interpreter": {
    "hash": "31f2aee4e71d21fbe5cf8b01ff0e069b9275f58929596ceb00d14d90e3e16cd6"
   }
  }
 },
 "nbformat": 4,
 "nbformat_minor": 5
}
